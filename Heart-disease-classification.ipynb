{
 "cells": [
  {
   "cell_type": "markdown",
   "id": "80981abc",
   "metadata": {},
   "source": [
    "# Predicting heart disease using machine learning \n",
    "\n",
    "This notbook looks into using various Python-based machine learning and data science libraries in an attemot to build a machine leaning model capable of predicting wheather or not someone has heart disease based on their medical attributes.\n",
    "We are going to take the following approach:\n",
    "1. Problem definition\n",
    "2. Data\n",
    "3. Evaluation\n",
    "4. Features\n",
    "5. Modeling\n",
    "6. Experimentation\n",
    "\n",
    "## 1. Problem Definition\n",
    "in a statement, \n",
    "> Given Clinical parameter about a patient, can we predict whether or not they have heart disease?\n",
    "## 2. Data \n",
    "\n",
    "The original data came from the UCI Heart disease Webssite.\n",
    "https://archive.ics.uci.edu/dataset/45/heart+disease\n",
    "\n",
    "## 3. Evaluation\n",
    "\n",
    "> if we can reach 95 % accuracy at predicting wheather or not a patient has a heart disease during the proof of concept, we'll porsue the project \n",
    "\n",
    "## 4. Features \n",
    "\n",
    "This is where you'll get diffirent information about each of the features in your data \n",
    "    \n",
    "  **Create a data dictionary**\n",
    "  \n",
    " "
   ]
  },
  {
   "cell_type": "code",
   "execution_count": 7,
   "id": "a10d64e9",
   "metadata": {},
   "outputs": [],
   "source": [
    "# Import all the tools we need \n",
    "\n",
    "# Regular EDA (Exploratory data analysis) and plotting libraries\n",
    "import numpy as np \n",
    "import pandas as pd\n",
    "import matplotlib.pyplot as plt\n",
    "import seaborn as sns\n",
    "\n",
    "# we want out plots to apear inside the notebook \n",
    "%matplotlib inline \n",
    "\n",
    "# Model from Scikit-Learn\n",
    "from sklearn.linear_model import LogisticRegression\n",
    "from sklearn.neighbors import KNeighborsClassifier\n",
    "from sklearn.ensemble import RandomForestClassifier\n",
    "\n",
    "#Model Evaluations \n",
    "from sklearn.model_selection import train_test_split, cross_val_score\n",
    "from sklearn.model_selection import RandomizedSearchCV, GridSearchCV\n",
    "from sklearn.metrics import confusion_matrix, classification_report\n",
    "from sklearn.metrics import precision_score, recall_score, f1_score\n",
    "from sklearn.metrics import RocCurveDisplay\n"
   ]
  },
  {
   "cell_type": "code",
   "execution_count": null,
   "id": "bd8ea686",
   "metadata": {},
   "outputs": [],
   "source": []
  }
 ],
 "metadata": {
  "kernelspec": {
   "display_name": "Python 3 (ipykernel)",
   "language": "python",
   "name": "python3"
  },
  "language_info": {
   "codemirror_mode": {
    "name": "ipython",
    "version": 3
   },
   "file_extension": ".py",
   "mimetype": "text/x-python",
   "name": "python",
   "nbconvert_exporter": "python",
   "pygments_lexer": "ipython3",
   "version": "3.10.10"
  }
 },
 "nbformat": 4,
 "nbformat_minor": 5
}
